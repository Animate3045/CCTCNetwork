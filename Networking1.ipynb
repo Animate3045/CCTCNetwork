{
 "cells": [
  {
   "cell_type": "code",
   "execution_count": null,
   "metadata": {
    "vscode": {
     "languageId": "powershell"
    }
   },
   "outputs": [],
   "source": [
    "<#\n",
    "Transport layer - TCP vs UDP. UDP is sessionless\n",
    "\n",
    "Switch modes - cut: just read destination and send; store-and-forward for more detailed/protected\n",
    "\n",
    "ARP is usually 1-to-1, gratuitous sends without request\n",
    "\n",
    "VLAN trunking protocol - Cisco proprietary, very noisy\n",
    "Dynamic Trunking Protocol (DTP) - on by default\n",
    "Cisco Discovery Protocol (CDP)\n",
    "CDP/FDP/LLDP (LLDP is open source implementation)\n",
    "    Leaks valuable data\n",
    "    Clear Text\n",
    "    Enabled by default - may be required for VOIP\n",
    "\n",
    "#>"
   ]
  },
  {
   "cell_type": "code",
   "execution_count": null,
   "metadata": {
    "vscode": {
     "languageId": "powershell"
    }
   },
   "outputs": [],
   "source": [
    "<#\n",
    "Routing protocols will use multicast classful addressing - 224:239\n",
    "Reserved field - if its flagged (1), someone is probably trying to do something tricky\n",
    "APIPA - created by windows so local computers can talk to each other without DHCP\n",
    "\n",
    "#>"
   ]
  },
  {
   "cell_type": "code",
   "execution_count": null,
   "metadata": {
    "vscode": {
     "languageId": "powershell"
    }
   },
   "outputs": [],
   "source": [
    "<#\n",
    "Wireshark\n",
    "ssh -X student@<ip> -- the -X allows applications to pass through like remote dektop\n",
    "in terminal - wireshark <filename>\n",
    "Statistics tab - protocol hierarchy - select a protocol and apply it as a filter\n",
    "Statistics tab - conversations - filter by back/forth communication per IP - will build IP filter for you\n",
    "Statistics - Endpoints - similar to above, but not constrained by 2 way communication\n",
    "#>"
   ]
  },
  {
   "cell_type": "code",
   "execution_count": null,
   "metadata": {},
   "outputs": [],
   "source": [
    "import socket\n",
    "socket.af_"
   ]
  }
 ],
 "metadata": {
  "kernelspec": {
   "display_name": "Python 3",
   "language": "python",
   "name": "python3"
  },
  "language_info": {
   "name": "python",
   "version": "3.8.10"
  }
 },
 "nbformat": 4,
 "nbformat_minor": 2
}
